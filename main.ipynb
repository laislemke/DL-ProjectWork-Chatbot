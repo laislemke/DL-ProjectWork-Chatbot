{
  "nbformat": 4,
  "nbformat_minor": 0,
  "metadata": {
    "colab": {
      "provenance": [],
      "authorship_tag": "ABX9TyO5fDFFk42aI1CSxQeeE4ww",
      "include_colab_link": true
    },
    "kernelspec": {
      "name": "python3",
      "display_name": "Python 3"
    },
    "language_info": {
      "name": "python"
    }
  },
  "cells": [
    {
      "cell_type": "markdown",
      "metadata": {
        "id": "view-in-github",
        "colab_type": "text"
      },
      "source": [
        "<a href=\"https://colab.research.google.com/github/laislemke/DL-ProjectWork-Chatbot/blob/main/main.ipynb\" target=\"_parent\"><img src=\"https://colab.research.google.com/assets/colab-badge.svg\" alt=\"Open In Colab\"/></a>"
      ]
    },
    {
      "cell_type": "markdown",
      "source": [
        "# Deep Learning Project Task\n",
        "\n",
        "## Task 2: Create a Chatbot\n",
        "**Ziel:** Aufbau eines Chatbots, der mithilfe von Word2Vec und LSTM Nutzereingaben verarbeitet und darauf basierend Antworten generiert oder an einen menschlichen Operator weiterleitet. Zudem soll gezeigt werden, wie das Modell auf neue Aufgaben adaptiert werden kann.\n",
        "\n",
        "---\n",
        "\n",
        "## Einleitung\n",
        "In diesem Notebook wird auf Basis von Word2Vec und einem LSTM-Modell ein Chatbot implementiert. Ziel ist es, Eingabetexte semantisch zu repräsentieren, eine Sequenzmodellierung durchzuführen und Antworten zu generieren."
      ],
      "metadata": {
        "id": "ozOAiz08YZKb"
      }
    },
    {
      "cell_type": "code",
      "execution_count": null,
      "metadata": {
        "id": "DeMX4eEvVUtN"
      },
      "outputs": [],
      "source": [
        ""
      ]
    }
  ]
}